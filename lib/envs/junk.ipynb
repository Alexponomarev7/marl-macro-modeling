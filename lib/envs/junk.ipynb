{
 "cells": [
  {
   "cell_type": "code",
   "execution_count": 10,
   "metadata": {},
   "outputs": [
    {
     "name": "stdout",
     "output_type": "stream",
     "text": [
      "{'Born_Pfeifer_2018_MP', 'Aguiar_Gopinath_2007', 'RBC_news_shock_model', 'Hansen_1985', 'GarciaCicco_et_al_2010', 'Caldara_et_al_2012', 'RBC_capitalstock_shock', 'SGU_2003', 'Gali_2008_chapter_2', 'Collard_2001_example1', 'McCandless_2008_Chapter_13', 'FV_et_al_2007_ABCD', 'RBC_baseline', 'RBC_state_dependent_GIRF', 'SGU_2004', 'Faia_2008'}\n",
      "{'Born_Pfeifer_2018_MP': 0, 'Aguiar_Gopinath_2007': 1, 'RBC_news_shock_model': 2, 'Hansen_1985': 3, 'GarciaCicco_et_al_2010': 4, 'Caldara_et_al_2012': 5, 'RBC_capitalstock_shock': 6, 'SGU_2003': 7, 'Gali_2008_chapter_2': 8, 'Collard_2001_example1': 9, 'McCandless_2008_Chapter_13': 10, 'FV_et_al_2007_ABCD': 11, 'RBC_baseline': 12, 'RBC_state_dependent_GIRF': 13, 'SGU_2004': 14, 'Faia_2008': 15}\n"
     ]
    }
   ],
   "source": [
    "from pathlib import Path\n",
    "import pandas as pd\n",
    "\n",
    "path = Path(\"marl_experiments/d22da4e8c815744615a872eded3f45a4/dataset/train/metadata.json\")\n",
    "import json\n",
    "\n",
    "names = set()\n",
    "for item in json.load(open(path)):\n",
    "    names.add(item['env_name'].rsplit('_', 1)[0])\n",
    "\n",
    "print(names)\n",
    "\n",
    "m = {}\n",
    "for i, name in enumerate(names):\n",
    "    m[name] = i\n",
    "\n",
    "print(m)\n",
    "\n",
    "\n"
   ]
  },
  {
   "cell_type": "code",
   "execution_count": 2,
   "metadata": {},
   "outputs": [
    {
     "data": {
      "text/plain": [
       "True"
      ]
     },
     "execution_count": 2,
     "metadata": {},
     "output_type": "execute_result"
    }
   ],
   "source": [
    "path.exists()"
   ]
  },
  {
   "cell_type": "code",
   "execution_count": 5,
   "metadata": {},
   "outputs": [
    {
     "data": {
      "text/html": [
       "<div>\n",
       "<style scoped>\n",
       "    .dataframe tbody tr th:only-of-type {\n",
       "        vertical-align: middle;\n",
       "    }\n",
       "\n",
       "    .dataframe tbody tr th {\n",
       "        vertical-align: top;\n",
       "    }\n",
       "\n",
       "    .dataframe thead th {\n",
       "        text-align: right;\n",
       "    }\n",
       "</style>\n",
       "<table border=\"1\" class=\"dataframe\">\n",
       "  <thead>\n",
       "    <tr style=\"text-align: right;\">\n",
       "      <th></th>\n",
       "      <th>state</th>\n",
       "      <th>action</th>\n",
       "      <th>reward</th>\n",
       "      <th>done</th>\n",
       "      <th>truncated</th>\n",
       "      <th>info</th>\n",
       "    </tr>\n",
       "  </thead>\n",
       "  <tbody>\n",
       "    <tr>\n",
       "      <th>0</th>\n",
       "      <td>[1.390663171906107e-309, 1.39065557868902e-309...</td>\n",
       "      <td>[-0.579692113087618]</td>\n",
       "      <td>-0.146101</td>\n",
       "      <td>False</td>\n",
       "      <td>False</td>\n",
       "      <td>{'dummy': 'dummy'}</td>\n",
       "    </tr>\n",
       "    <tr>\n",
       "      <th>1</th>\n",
       "      <td>[-0.1461008655432191, 0.4913128567444978, 1.53...</td>\n",
       "      <td>[0.21013859587716105]</td>\n",
       "      <td>-0.045819</td>\n",
       "      <td>False</td>\n",
       "      <td>False</td>\n",
       "      <td>{'dummy': 'dummy'}</td>\n",
       "    </tr>\n",
       "    <tr>\n",
       "      <th>2</th>\n",
       "      <td>[-0.1002819832934168, -0.5765538318777899, 1.1...</td>\n",
       "      <td>[0.07032619011234548]</td>\n",
       "      <td>-0.052904</td>\n",
       "      <td>False</td>\n",
       "      <td>False</td>\n",
       "      <td>{'dummy': 'dummy'}</td>\n",
       "    </tr>\n",
       "    <tr>\n",
       "      <th>3</th>\n",
       "      <td>[-0.0473778453714822, -1.1544559049194352, 0.6...</td>\n",
       "      <td>[0.339345889879557]</td>\n",
       "      <td>-0.082313</td>\n",
       "      <td>False</td>\n",
       "      <td>False</td>\n",
       "      <td>{'dummy': 'dummy'}</td>\n",
       "    </tr>\n",
       "    <tr>\n",
       "      <th>4</th>\n",
       "      <td>[0.0349346799402597, -0.7554839052014466, -0.0...</td>\n",
       "      <td>[0.026007752991453303]</td>\n",
       "      <td>-0.056145</td>\n",
       "      <td>False</td>\n",
       "      <td>False</td>\n",
       "      <td>{'dummy': 'dummy'}</td>\n",
       "    </tr>\n",
       "  </tbody>\n",
       "</table>\n",
       "</div>"
      ],
      "text/plain": [
       "                                               state                  action  \\\n",
       "0  [1.390663171906107e-309, 1.39065557868902e-309...    [-0.579692113087618]   \n",
       "1  [-0.1461008655432191, 0.4913128567444978, 1.53...   [0.21013859587716105]   \n",
       "2  [-0.1002819832934168, -0.5765538318777899, 1.1...   [0.07032619011234548]   \n",
       "3  [-0.0473778453714822, -1.1544559049194352, 0.6...     [0.339345889879557]   \n",
       "4  [0.0349346799402597, -0.7554839052014466, -0.0...  [0.026007752991453303]   \n",
       "\n",
       "     reward   done  truncated                info  \n",
       "0 -0.146101  False      False  {'dummy': 'dummy'}  \n",
       "1 -0.045819  False      False  {'dummy': 'dummy'}  \n",
       "2 -0.052904  False      False  {'dummy': 'dummy'}  \n",
       "3 -0.082313  False      False  {'dummy': 'dummy'}  \n",
       "4 -0.056145  False      False  {'dummy': 'dummy'}  "
      ]
     },
     "execution_count": 5,
     "metadata": {},
     "output_type": "execute_result"
    }
   ],
   "source": [
    "train = path / \"train\" / \"1_05fd567f.parquet\"\n",
    "train.exists()\n",
    "\n",
    "data = pd.read_parquet(train)\n",
    "\n",
    "data.head()"
   ]
  },
  {
   "cell_type": "code",
   "execution_count": null,
   "metadata": {},
   "outputs": [],
   "source": []
  }
 ],
 "metadata": {
  "kernelspec": {
   "display_name": "Python [conda env:.mlspace-al]",
   "language": "python",
   "name": "conda-env-.mlspace-al-py"
  }
 },
 "nbformat": 4,
 "nbformat_minor": 2
}
